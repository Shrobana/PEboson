{
 "cells": [
  {
   "cell_type": "code",
   "execution_count": 1,
   "metadata": {},
   "outputs": [],
   "source": [
    "import numpy as np\n",
    "import matplotlib.pyplot as plt\n",
    "import h5py\n",
    "import scipy\n",
    "from scipy.stats import uniform\n",
    "%matplotlib inline"
   ]
  },
  {
   "cell_type": "code",
   "execution_count": null,
   "metadata": {},
   "outputs": [],
   "source": [
    "#padding in logscale: frequency | amplitude\n",
    "#dlogf is the spacing of exponent of 10 for frequency \n",
    "#range: np.log10(dlogf) to 0-dlogf\n",
    "#filler in frequency : 10**np.linspace(lower,higher,(higher-lower)/dlogf)"
   ]
  },
  {
   "cell_type": "code",
   "execution_count": 22,
   "metadata": {},
   "outputs": [],
   "source": [
    "#noise\n",
    "data=np.loadtxt('curves.txt')\n",
    "freq=data[:,0]\n",
    "dataLigo=data[:,1]\n",
    "frequency=np.zeros(4096)\n",
    "amplitude=np.zeros(4096)\n",
    "#crass redifinition of frequency bins\n",
    "frequency[0:2048]=np.linspace(0,10000,2048)\n",
    "amplitude[0:2048]=dataLigo[0:2048]"
   ]
  },
  {
   "cell_type": "code",
   "execution_count": 23,
   "metadata": {},
   "outputs": [
    {
     "data": {
      "image/png": "[encoded data removed]",
      "text/plain": [
       "<Figure size 432x288 with 1 Axes>"
      ]
     },
     "metadata": {
      "needs_background": "light"
     },
     "output_type": "display_data"
    }
   ],
   "source": [
    "plt.plot(frequency[0:2048],amplitude[0:2048])\n",
    "plt.yscale('log')\n",
    "frequency[2048:]=np.flip(frequency[0:2048],0)\n",
    "amplitude[2048:]=np.flip(amplitude[0:2048],0)\n",
    "phase=np.random.uniform(0,2*np.pi,4096)\n",
    "ifft=np.fft.ifft(amplitude*np.exp(1j*phase))\n",
    "df=frequency[1]-frequency[0]\n",
    "time=np.linspace(0,df,4096)"
   ]
  },
  {
   "cell_type": "code",
   "execution_count": 292,
   "metadata": {},
   "outputs": [],
   "source": [
    "data=h5py.File('H-H1_LOSC_4_V1-931127296-4096.hdf5')"
   ]
  },
  {
   "cell_type": "code",
   "execution_count": 293,
   "metadata": {},
   "outputs": [
    {
     "data": {
      "text/plain": [
       "<KeysViewHDF5 ['meta', 'quality', 'strain']>"
      ]
     },
     "execution_count": 293,
     "metadata": {},
     "output_type": "execute_result"
    }
   ],
   "source": [
    "data.keys()"
   ]
  },
  {
   "cell_type": "code",
   "execution_count": 294,
   "metadata": {},
   "outputs": [
    {
     "data": {
      "text/plain": [
       "<KeysViewHDF5 ['Description', 'DescriptionURL', 'Detector', 'Duration', 'GPSstart', 'Observatory', 'Type', 'UTCstart']>"
      ]
     },
     "execution_count": 294,
     "metadata": {},
     "output_type": "execute_result"
    }
   ],
   "source": [
    "data['meta'].keys()"
   ]
  },
  {
   "cell_type": "code",
   "execution_count": 295,
   "metadata": {},
   "outputs": [
    {
     "data": {
      "text/plain": [
       "<KeysViewHDF5 ['detail', 'injections', 'simple']>"
      ]
     },
     "execution_count": 295,
     "metadata": {},
     "output_type": "execute_result"
    }
   ],
   "source": [
    "data['quality'].keys()"
   ]
  },
  {
   "cell_type": "code",
   "execution_count": 296,
   "metadata": {},
   "outputs": [
    {
     "data": {
      "text/plain": [
       "<KeysViewHDF5 ['InjDescriptions', 'InjShortnames', 'Injmask']>"
      ]
     },
     "execution_count": 296,
     "metadata": {},
     "output_type": "execute_result"
    }
   ],
   "source": [
    "data['quality']['injections'].keys()"
   ]
  },
  {
   "cell_type": "code",
   "execution_count": 297,
   "metadata": {},
   "outputs": [
    {
     "data": {
      "text/plain": [
       "array([b'DATA', b'CBCHIGH_CAT1', b'CBCHIGH_CAT2', b'CBCHIGH_CAT3',\n",
       "       b'CBCHIGH_CAT4', b'CBCLOW_CAT1', b'CBCLOW_CAT2', b'CBCLOW_CAT3',\n",
       "       b'CBCLOW_CAT4', b'BURST_CAT1', b'BURST_CAT2', b'BURST_CAT3',\n",
       "       b'BURST_CAT4', b'BURST_CAT3H', b'BURST_CAT4H', b'CW_CAT1',\n",
       "       b'STOCH_CAT1'], dtype='|S12')"
      ]
     },
     "execution_count": 297,
     "metadata": {},
     "output_type": "execute_result"
    }
   ],
   "source": [
    "data['quality']['simple']['DQShortnames'][()]"
   ]
  },
  {
   "cell_type": "code",
   "execution_count": 298,
   "metadata": {},
   "outputs": [],
   "source": [
    "time=np.linspace(0,4096,16777216)"
   ]
  },
  {
   "cell_type": "code",
   "execution_count": 299,
   "metadata": {},
   "outputs": [],
   "source": [
    "noise=data['strain']['Strain'][()] #THIS IS NOT NOISE RATHER STRAIN DATA"
   ]
  },
  {
   "cell_type": "code",
   "execution_count": 9,
   "metadata": {},
   "outputs": [],
   "source": [
    "minute_data=np.zeros(69)\n",
    "for n in range(69):\n",
    "    minute_data[n]=1.0/240000*(sum(signal_data[n*240000:240000*(n+1)]))"
   ]
  },
  {
   "cell_type": "code",
   "execution_count": 301,
   "metadata": {},
   "outputs": [
    {
     "data": {
      "text/plain": [
       "4095.999755859375"
      ]
     },
     "execution_count": 301,
     "metadata": {},
     "output_type": "execute_result"
    }
   ],
   "source": [
    "1/(time[1]-time[0])"
   ]
  },
  {
   "cell_type": "code",
   "execution_count": 316,
   "metadata": {},
   "outputs": [],
   "source": [
    "A=1.2*10**(-15)\n",
    "f=40\n",
    "signal=A*np.sin(2*np.pi*f*time)"
   ]
  },
  {
   "cell_type": "code",
   "execution_count": 304,
   "metadata": {},
   "outputs": [],
   "source": [
    "A_temp=1.2\n",
    "f_temp=40\n",
    "signal_template=A_temp*1.2*10**(-15)*np.sin(2*np.pi*f_temp*time)"
   ]
  },
  {
   "cell_type": "code",
   "execution_count": null,
   "metadata": {},
   "outputs": [],
   "source": []
  },
  {
   "cell_type": "code",
   "execution_count": 317,
   "metadata": {},
   "outputs": [],
   "source": [
    "gwdata=noise+signal"
   ]
  },
  {
   "cell_type": "code",
   "execution_count": 289,
   "metadata": {},
   "outputs": [
    {
     "data": {
      "text/plain": [
       "[<matplotlib.lines.Line2D at 0x1a22f8e3c8>]"
      ]
     },
     "execution_count": 289,
     "metadata": {},
     "output_type": "execute_result"
    },
    {
     "data": {
      "image/png": "[encoded data removed]",
      "text/plain": [
       "<Figure size 432x288 with 1 Axes>"
      ]
     },
     "metadata": {
      "needs_background": "light"
     },
     "output_type": "display_data"
    }
   ],
   "source": [
    "plt.plot(gwdata)"
   ]
  },
  {
   "cell_type": "code",
   "execution_count": 315,
   "metadata": {},
   "outputs": [
    {
     "data": {
      "text/plain": [
       "[<matplotlib.lines.Line2D at 0x1a49412e80>]"
      ]
     },
     "execution_count": 315,
     "metadata": {},
     "output_type": "execute_result"
    },
    {
     "data": {
      "image/png": "[encoded data removed]",
      "text/plain": [
       "<Figure size 432x288 with 1 Axes>"
      ]
     },
     "metadata": {
      "needs_background": "light"
     },
     "output_type": "display_data"
    }
   ],
   "source": [
    "#fft of signal\n",
    "freq=np.fft.fftfreq(len(signal_template))#,d=time[1]-time[0]) #Is the 1/T correct?\n",
    "shift_freq=np.fft.fftshift(freq)\n",
    "fft_signal=np.fft.fft(signal_template)\n",
    "plt.plot(shift_freq,abs(fft_signal))"
   ]
  },
  {
   "cell_type": "code",
   "execution_count": null,
   "metadata": {},
   "outputs": [
    {
     "data": {
      "text/plain": [
       "[<matplotlib.lines.Line2D at 0x1a494d5908>]"
      ]
     },
     "execution_count": 318,
     "metadata": {},
     "output_type": "execute_result"
    }
   ],
   "source": [
    "#fft of data\n",
    "freq_data=np.fft.fftfreq(len(gwdata),d=time[1]-time[0])\n",
    "shift_freq_data=np.fft.fftshift(freq_data)\n",
    "fft_data=np.fft.fft(gwdata)\n",
    "plt.plot(shift_freq_data,abs(fft_data))"
   ]
  },
  {
   "cell_type": "code",
   "execution_count": 311,
   "metadata": {},
   "outputs": [
    {
     "data": {
      "text/plain": [
       "[<matplotlib.lines.Line2D at 0x1a24a500b8>]"
      ]
     },
     "execution_count": 311,
     "metadata": {},
     "output_type": "execute_result"
    },
    {
     "data": {
      "image/png": "[encoded data removed]",
      "text/plain": [
       "<Figure size 432x288 with 1 Axes>"
      ]
     },
     "metadata": {
      "needs_background": "light"
     },
     "output_type": "display_data"
    }
   ],
   "source": [
    "#fft of noise\n",
    "freq_noise=np.fft.fftfreq(len(noise),d=time[1]-time[0])\n",
    "shift_freq_noise=np.fft.fftshift(freq_noise)\n",
    "fft_noise=np.fft.fft(noise)\n",
    "plt.plot(shift_freq_noise,abs(fft_noise))"
   ]
  },
  {
   "cell_type": "code",
   "execution_count": 312,
   "metadata": {},
   "outputs": [],
   "source": [
    "#definition of template\n",
    "A_temp=np.linspace(1,2,6)#1.2*10**(-14)\n",
    "f_temp=np.linspace(30,50,5)\n",
    "likelihood=[]\n",
    "#time_temp=np.linspace(0,68,69)\n",
    "#signal_template=A_temp*np.sin(2*np.pi*f_temp*time_temp)\n",
    "for i in range(5):\n",
    "    for j in range(6):\n",
    "        signal_template=A_temp[j]*1.2*10**(-15)*np.sin(2*np.pi*f_temp[i]*time)\n",
    "#         minute_signaltemplate=np.zeros(69)\n",
    "#         for n in range(69):\n",
    "#             minute_signaltemplate[n]=1.0/240000*(sum(signal_template[n*240000:240000*(n+1)]))\n",
    "        freq=np.fft.fftfreq(len(signal_template))*1/0.00025 #Is the 1/T correct?\n",
    "        shift_freq=np.fft.fftshift(freq)\n",
    "        fft_signal=np.fft.fft(signal_template)\n",
    "        likelihood=np.append(likelihood,np.exp(-sum(abs(fft_data-fft_signal)**2/abs(fft_noise)**2)))"
   ]
  },
  {
   "cell_type": "code",
   "execution_count": 62,
   "metadata": {},
   "outputs": [],
   "source": [
    "likelihood=np.exp(-sum(abs(fft_data-fft_signal)**2/abs(fft_noise)**2))"
   ]
  },
  {
   "cell_type": "code",
   "execution_count": 313,
   "metadata": {},
   "outputs": [
    {
     "data": {
      "text/plain": [
       "array([0., 0., 0., 0., 0., 0., 0., 0., 0., 0., 0., 0., 0., 0., 0., 0., 0.,\n",
       "       0., 0., 0., 0., 0., 0., 0., 0., 0., 0., 0., 0., 0.])"
      ]
     },
     "execution_count": 313,
     "metadata": {},
     "output_type": "execute_result"
    }
   ],
   "source": [
    "likelihood"
   ]
  },
  {
   "cell_type": "code",
   "execution_count": 314,
   "metadata": {},
   "outputs": [
    {
     "data": {
      "text/plain": [
       "[<matplotlib.lines.Line2D at 0x1a49211128>]"
      ]
     },
     "execution_count": 314,
     "metadata": {},
     "output_type": "execute_result"
    },
    {
     "data": {
      "image/png": "[encoded data removed]",
      "text/plain": [
       "<Figure size 432x288 with 1 Axes>"
      ]
     },
     "metadata": {
      "needs_background": "light"
     },
     "output_type": "display_data"
    }
   ],
   "source": [
    "plt.plot(likelihood)"
   ]
  },
  {
   "cell_type": "code",
   "execution_count": 59,
   "metadata": {},
   "outputs": [],
   "source": [
    "prior_amplitude = scipy.stats.uniform(10,20)\n",
    "prior_inclin = scipy.stats.uniform(10,20)\n",
    "prior_phase = scipy.stats.uniform(10,20)\n",
    "prior_freq = scipy.stats.uniform(100,200)"
   ]
  },
  {
   "cell_type": "code",
   "execution_count": 39,
   "metadata": {},
   "outputs": [
    {
     "data": {
      "text/plain": [
       "array([ 7.90264739e-20+0.00000000e+00j,  7.93555590e-20-3.00686428e-25j,\n",
       "        8.03566583e-20-6.06402113e-25j,  8.20727500e-20-9.22601784e-25j,\n",
       "        8.45805716e-20-1.25545503e-24j,  8.79993843e-20-1.61232419e-24j,\n",
       "        9.25058396e-20-2.00264598e-24j,  9.83586714e-20-2.43893495e-24j,\n",
       "        1.05940312e-19-2.93861211e-24j,  1.15829548e-19-3.52702885e-24j,\n",
       "        1.28935008e-19-4.24324088e-24j,  1.46757547e-19-5.15077564e-24j,\n",
       "        1.71953551e-19-6.36115143e-24j,  2.09695792e-19-8.09070026e-24j,\n",
       "        2.71554598e-19-1.08223229e-23j,  3.89773947e-19-1.58999769e-23j,\n",
       "        7.00606197e-19-2.90012273e-23j,  3.60789172e-18-1.50280068e-22j,\n",
       "       -1.14236741e-18+4.74843987e-23j, -4.94865713e-19+2.03566428e-23j,\n",
       "       -3.17514297e-19+1.28161089e-23j, -2.35174291e-19+9.23242981e-24j,\n",
       "       -1.87979941e-19+7.11056382e-24j, -1.57647336e-19+5.68808761e-24j,\n",
       "       -1.36717499e-19+4.65351236e-24j, -1.21581855e-19+3.85553719e-24j,\n",
       "       -1.10285135e-19+3.21178222e-24j, -1.01679197e-19+2.67345299e-24j,\n",
       "       -9.50489181e-20+2.20940832e-24j, -8.99292215e-20+1.79897333e-24j,\n",
       "       -8.60084492e-20+1.42759822e-24j, -8.30742479e-20+1.08453711e-24j,\n",
       "       -8.09819292e-20+7.61468682e-25j, -7.96354864e-20+4.51763003e-25j,\n",
       "       -7.89762083e-20+1.49778596e-25j, -7.89762083e-20-1.49778596e-25j,\n",
       "       -7.96354864e-20-4.51763003e-25j, -8.09819292e-20-7.61468682e-25j,\n",
       "       -8.30742479e-20-1.08453711e-24j, -8.60084492e-20-1.42759822e-24j,\n",
       "       -8.99292215e-20-1.79897333e-24j, -9.50489181e-20-2.20940832e-24j,\n",
       "       -1.01679197e-19-2.67345299e-24j, -1.10285135e-19-3.21178222e-24j,\n",
       "       -1.21581855e-19-3.85553719e-24j, -1.36717499e-19-4.65351236e-24j,\n",
       "       -1.57647336e-19-5.68808761e-24j, -1.87979941e-19-7.11056382e-24j,\n",
       "       -2.35174291e-19-9.23242981e-24j, -3.17514297e-19-1.28161089e-23j,\n",
       "       -4.94865713e-19-2.03566428e-23j, -1.14236741e-18-4.74843987e-23j,\n",
       "        3.60789172e-18+1.50280068e-22j,  7.00606197e-19+2.90012273e-23j,\n",
       "        3.89773947e-19+1.58999769e-23j,  2.71554598e-19+1.08223229e-23j,\n",
       "        2.09695792e-19+8.09070026e-24j,  1.71953551e-19+6.36115143e-24j,\n",
       "        1.46757547e-19+5.15077564e-24j,  1.28935008e-19+4.24324088e-24j,\n",
       "        1.15829548e-19+3.52702885e-24j,  1.05940312e-19+2.93861211e-24j,\n",
       "        9.83586714e-20+2.43893495e-24j,  9.25058396e-20+2.00264598e-24j,\n",
       "        8.79993843e-20+1.61232419e-24j,  8.45805716e-20+1.25545503e-24j,\n",
       "        8.20727500e-20+9.22601784e-25j,  8.03566583e-20+6.06402113e-25j,\n",
       "        7.93555590e-20+3.00686428e-25j])"
      ]
     },
     "execution_count": 39,
     "metadata": {},
     "output_type": "execute_result"
    }
   ],
   "source": [
    "fft_signal"
   ]
  },
  {
   "cell_type": "code",
   "execution_count": 40,
   "metadata": {},
   "outputs": [
    {
     "data": {
      "text/plain": [
       "array([-2.60148602e-17+0.00000000e+00j, -2.95742777e-18-3.61959465e-18j,\n",
       "        1.32008628e-17-4.48917546e-18j, -3.19123562e-18+1.21080946e-17j,\n",
       "       -1.51634689e-17+1.65179187e-17j, -5.94255475e-18+7.95185254e-18j,\n",
       "       -7.66264708e-18-6.93651949e-18j, -1.40900909e-17-3.14168586e-18j,\n",
       "        3.78978857e-18+8.20072849e-18j,  3.60405936e-18-4.67259654e-18j,\n",
       "        1.61662865e-17-1.63910448e-17j,  1.14322753e-17+5.47258046e-18j,\n",
       "       -1.38368929e-18+1.53518206e-17j,  4.07990469e-18+8.28731000e-18j,\n",
       "       -3.26506787e-18+4.18086759e-18j,  1.39488683e-18-2.35949497e-18j,\n",
       "        1.13020919e-17-1.68486083e-17j, -3.64194693e-18+5.37465852e-19j,\n",
       "       -5.51815233e-19-2.10980868e-18j, -9.62121854e-18-4.65539430e-18j,\n",
       "       -4.80793789e-18-7.03660794e-18j,  2.70592869e-18+2.56543335e-19j,\n",
       "        3.11849472e-18+5.24052527e-18j,  4.84909929e-18-7.13880690e-18j,\n",
       "       -8.19407138e-18-3.36798857e-18j, -4.37995026e-19+6.04841309e-18j,\n",
       "       -1.30450221e-17-6.14083385e-19j,  1.53445130e-17+7.47925767e-19j,\n",
       "        1.23620949e-18+1.22019846e-17j, -5.73668485e-18-4.72947877e-18j,\n",
       "       -2.35085116e-18-1.75507384e-18j, -4.74037799e-18-4.01405007e-18j,\n",
       "        6.30722473e-18-8.70821853e-20j, -2.93543232e-18-1.60188953e-18j,\n",
       "        1.15719329e-18-3.34847045e-18j,  1.15719329e-18+3.34847045e-18j,\n",
       "       -2.93543232e-18+1.60188953e-18j,  6.30722473e-18+8.70821853e-20j,\n",
       "       -4.74037799e-18+4.01405007e-18j, -2.35085116e-18+1.75507384e-18j,\n",
       "       -5.73668485e-18+4.72947877e-18j,  1.23620949e-18-1.22019846e-17j,\n",
       "        1.53445130e-17-7.47925767e-19j, -1.30450221e-17+6.14083385e-19j,\n",
       "       -4.37995026e-19-6.04841309e-18j, -8.19407138e-18+3.36798857e-18j,\n",
       "        4.84909929e-18+7.13880690e-18j,  3.11849472e-18-5.24052527e-18j,\n",
       "        2.70592869e-18-2.56543335e-19j, -4.80793789e-18+7.03660794e-18j,\n",
       "       -9.62121854e-18+4.65539430e-18j, -5.51815233e-19+2.10980868e-18j,\n",
       "       -3.64194693e-18-5.37465852e-19j,  1.13020919e-17+1.68486083e-17j,\n",
       "        1.39488683e-18+2.35949497e-18j, -3.26506787e-18-4.18086759e-18j,\n",
       "        4.07990469e-18-8.28731000e-18j, -1.38368929e-18-1.53518206e-17j,\n",
       "        1.14322753e-17-5.47258046e-18j,  1.61662865e-17+1.63910448e-17j,\n",
       "        3.60405936e-18+4.67259654e-18j,  3.78978857e-18-8.20072849e-18j,\n",
       "       -1.40900909e-17+3.14168586e-18j, -7.66264708e-18+6.93651949e-18j,\n",
       "       -5.94255475e-18-7.95185254e-18j, -1.51634689e-17-1.65179187e-17j,\n",
       "       -3.19123562e-18-1.21080946e-17j,  1.32008628e-17+4.48917546e-18j,\n",
       "       -2.95742777e-18+3.61959465e-18j])"
      ]
     },
     "execution_count": 40,
     "metadata": {},
     "output_type": "execute_result"
    }
   ],
   "source": [
    "fft_data"
   ]
  },
  {
   "cell_type": "code",
   "execution_count": 245,
   "metadata": {},
   "outputs": [],
   "source": [
    "t=np.linspace(0,10,11)\n",
    "s=20*np.sin(190*t)+15*np.sin(20*t)"
   ]
  },
  {
   "cell_type": "code",
   "execution_count": 246,
   "metadata": {},
   "outputs": [
    {
     "data": {
      "text/plain": [
       "[<matplotlib.lines.Line2D at 0x1a20a1dd30>]"
      ]
     },
     "execution_count": 246,
     "metadata": {},
     "output_type": "execute_result"
    },
    {
     "data": {
      "image/png": "[encoded data removed]",
      "text/plain": [
       "<Figure size 432x288 with 1 Axes>"
      ]
     },
     "metadata": {
      "needs_background": "light"
     },
     "output_type": "display_data"
    }
   ],
   "source": [
    "plt.plot(t,s)"
   ]
  },
  {
   "cell_type": "code",
   "execution_count": 247,
   "metadata": {},
   "outputs": [],
   "source": [
    "ff=np.fft.fft(s)"
   ]
  },
  {
   "cell_type": "code",
   "execution_count": 248,
   "metadata": {},
   "outputs": [
    {
     "data": {
      "text/plain": [
       "[<matplotlib.lines.Line2D at 0x1a20af8f60>]"
      ]
     },
     "execution_count": 248,
     "metadata": {},
     "output_type": "execute_result"
    },
    {
     "data": {
      "image/png": "[encoded data removed]",
      "text/plain": [
       "<Figure size 432x288 with 1 Axes>"
      ]
     },
     "metadata": {
      "needs_background": "light"
     },
     "output_type": "display_data"
    }
   ],
   "source": [
    "fr=np.fft.fftfreq(len(ff),d=t[1]-t[0])\n",
    "frq=np.fft.fftshift(fr)\n",
    "plt.plot(frq,abs(ff))"
   ]
  },
  {
   "cell_type": "code",
   "execution_count": 249,
   "metadata": {},
   "outputs": [],
   "source": [
    "iff=np.fft.ifft(ff)"
   ]
  },
  {
   "cell_type": "code",
   "execution_count": 250,
   "metadata": {},
   "outputs": [
    {
     "data": {
      "text/plain": [
       "[<matplotlib.lines.Line2D at 0x1a20bebba8>]"
      ]
     },
     "execution_count": 250,
     "metadata": {},
     "output_type": "execute_result"
    },
    {
     "data": {
      "image/png": "[encoded data removed]",
      "text/plain": [
       "<Figure size 432x288 with 1 Axes>"
      ]
     },
     "metadata": {
      "needs_background": "light"
     },
     "output_type": "display_data"
    }
   ],
   "source": [
    "plt.plot(t,np.real(iff))"
   ]
  },
  {
   "cell_type": "code",
   "execution_count": 233,
   "metadata": {},
   "outputs": [
    {
     "data": {
      "text/plain": [
       "3.183098861837907"
      ]
     },
     "execution_count": 233,
     "metadata": {},
     "output_type": "execute_result"
    }
   ],
   "source": [
    "20/2/np.pi"
   ]
  },
  {
   "cell_type": "code",
   "execution_count": 216,
   "metadata": {},
   "outputs": [
    {
     "data": {
      "text/plain": [
       "0.20833333333333334"
      ]
     },
     "execution_count": 216,
     "metadata": {},
     "output_type": "execute_result"
    }
   ],
   "source": [
    "1/4.8"
   ]
  },
  {
   "cell_type": "code",
   "execution_count": 220,
   "metadata": {},
   "outputs": [
    {
     "data": {
      "text/plain": [
       "19.9"
      ]
     },
     "execution_count": 220,
     "metadata": {},
     "output_type": "execute_result"
    }
   ],
   "source": [
    "1/(t[1]-t[0])"
   ]
  },
  {
   "cell_type": "code",
   "execution_count": 244,
   "metadata": {},
   "outputs": [
    {
     "data": {
      "text/plain": [
       "array([ 0.,  1.,  2.,  3.,  4.,  5.,  6.,  7.,  8.,  9., 10.])"
      ]
     },
     "execution_count": 244,
     "metadata": {},
     "output_type": "execute_result"
    }
   ],
   "source": [
    "t"
   ]
  },
  {
   "cell_type": "code",
   "execution_count": null,
   "metadata": {},
   "outputs": [],
   "source": []
  }
 ],
 "metadata": {
  "kernelspec": {
   "display_name": "Python 3",
   "language": "python",
   "name": "python3"
  },
  "language_info": {
   "codemirror_mode": {
    "name": "ipython",
    "version": 3
   },
   "file_extension": ".py",
   "mimetype": "text/x-python",
   "name": "python",
   "nbconvert_exporter": "python",
   "pygments_lexer": "ipython3",
   "version": "3.7.2"
  }
 },
 "nbformat": 4,
 "nbformat_minor": 2
}
